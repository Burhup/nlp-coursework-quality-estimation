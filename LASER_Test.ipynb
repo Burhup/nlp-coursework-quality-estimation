{
 "cells": [
  {
   "cell_type": "markdown",
   "metadata": {
    "colab_type": "text",
    "id": "omEQHVdOS61G"
   },
   "source": [
    "# NLP Coursework - LASER Test\n"
   ]
  },
  {
   "cell_type": "markdown",
   "metadata": {
    "colab_type": "text",
    "id": "lweXud1Wpemd"
   },
   "source": [
    "## Import data and transform to LASER embeddings"
   ]
  },
  {
   "cell_type": "code",
   "execution_count": 5,
   "metadata": {},
   "outputs": [],
   "source": [
    "# Imports\n",
    "import requests\n",
    "import numpy as np\n",
    "from nltk.corpus import stopwords\n",
    "from nltk import download"
   ]
  },
  {
   "cell_type": "code",
   "execution_count": 8,
   "metadata": {},
   "outputs": [
    {
     "name": "stdout",
     "output_type": "stream",
     "text": [
      "[[0.93503236]]\n"
     ]
    }
   ],
   "source": [
    "# Test if LASER service is working\n",
    "def get_vect(query_in, lang = 'en', address = '127.0.0.1:8050'):\n",
    "    url = \"http://\" + address + \"/vectorize\"\n",
    "    params = {\"q\": query_in, \"lang\": lang}\n",
    "    resp = requests.get(url=url, params=params).json()\n",
    "    return resp[\"embedding\"]\n",
    "\n",
    "# Test to get vector embeddings\n",
    "input_dict = {\n",
    "    \"en\":\"Machine learning isn't as hard as people think.\",\n",
    "    \"de\":\"Maschinelles Lernen ist nicht so schwer wie die Leute denken.\",\n",
    "}\n",
    "\n",
    "embedded_dict = {}\n",
    "for key in input_dict:\n",
    "    embedded_dict[key] = np.array(get_vect(input_dict[key], lang = key))\n",
    "    \n",
    "from sklearn.metrics.pairwise import cosine_similarity\n",
    "cos_lib = cosine_similarity(embedded_dict['de'], embedded_dict['en'])\n",
    "\n",
    "print(cos_lib)"
   ]
  },
  {
   "cell_type": "code",
   "execution_count": 9,
   "metadata": {},
   "outputs": [
    {
     "name": "stdout",
     "output_type": "stream",
     "text": [
      "\n"
     ]
    }
   ],
   "source": [
    "# Get training and validation data\n",
    "f_train_scores = open(\"./train.ende.scores\",'r')\n",
    "de_train_scores = f_train_scores.readlines()\n",
    "\n",
    "f_train_scores_VAL = open(\"./dev.ende.scores\",'r')\n",
    "de_train_scores_VAL = f_train_scores_VAL.readlines()\n",
    "\n",
    "print()"
   ]
  },
  {
   "cell_type": "code",
   "execution_count": 2,
   "metadata": {},
   "outputs": [
    {
     "name": "stderr",
     "output_type": "stream",
     "text": [
      "[nltk_data] Downloading package stopwords to\n",
      "[nltk_data]     /home/group-59/nltk_data...\n",
      "[nltk_data]   Package stopwords is already up-to-date!\n"
     ]
    }
   ],
   "source": [
    "# Stopwords\n",
    "#downloading stopwords from the nltk package\n",
    "download('stopwords') #stopwords dictionary, run once\n",
    "\n",
    "stop_words_en = set(stopwords.words('english'))\n",
    "stop_words_de = set(stopwords.words('german'))"
   ]
  },
  {
   "cell_type": "code",
   "execution_count": 14,
   "metadata": {},
   "outputs": [],
   "source": [
    "# Get LASER vectors for training\n",
    "file_de = open(\"./train.ende.src\") \n",
    "file_en = open(\"./train.ende.mt\") \n",
    "\n",
    "file_de_VAL = open(\"./dev.ende.src\") \n",
    "file_en_VAL = open(\"./dev.ende.mt\") \n",
    "\n",
    "files = [{\"name\": \"training_LASER_embeddings\", \"file_de\": file_de, \"file_en\": file_en},\n",
    "         {\"name\": \"validation_LASER_embeddings\", \"file_de\": file_de_VAL, \"file_en\": file_en_VAL}]\n",
    "\n",
    "for file in files:\n",
    "    lines_en = file[\"file_de\"].readlines() \n",
    "    lines_de = file[\"file_en\"].readlines()\n",
    "\n",
    "    # Remove stopwords\n",
    "    for i in range(len(lines_de)):\n",
    "        querywords = lines_en[i].split()\n",
    "        resultwords_en  = [word.lower() for word in querywords if word.lower() not in stop_words_en]\n",
    "        result_en = ' '.join(resultwords_en)\n",
    "        lines_en[i] = result_en\n",
    "\n",
    "        querywords = lines_de[i].split()\n",
    "        resultwords_de  = [word.lower() for word in querywords if word.lower() not in stop_words_de]\n",
    "        result_de = ' '.join(resultwords_de)\n",
    "        lines_de[i] = result_de\n",
    "\n",
    "    en_LASER_embeddings = []\n",
    "    de_LASER_embeddings = []\n",
    "\n",
    "    for i in range(len(lines_en)):\n",
    "        print(str(i) + \", \", end=\"\", flush=True)\n",
    "\n",
    "        a = np.array(get_vect(lines_de[i], lang = 'de'))\n",
    "        b = np.array(get_vect(lines_en[i], lang = 'en'))\n",
    "\n",
    "        de_LASER_embeddings.append(a)\n",
    "        en_LASER_embeddings.append(b)\n",
    "\n",
    "    # Save numpy arrays\n",
    "    path_de = 'de_' + file[\"name\"] + '.npy'\n",
    "    path_en = 'en_' + file[\"name\"] + '.npy'\n",
    "    \n",
    "    np.save(path_de, de_LASER_embeddings)\n",
    "    np.save(path_en, en_LASER_embeddings)"
   ]
  },
  {
   "cell_type": "markdown",
   "metadata": {},
   "source": [
    "### Try predicting scores with a simple linear model"
   ]
  },
  {
   "cell_type": "code",
   "execution_count": 15,
   "metadata": {},
   "outputs": [],
   "source": [
    "import numpy as np\n",
    "import pandas as pd\n",
    "import matplotlib.pyplot as plt\n",
    "import torch\n",
    "import torch.nn as nn\n",
    "from torch.utils.data import TensorDataset, DataLoader\n",
    "\n",
    "class SimpleNet(nn.Module):\n",
    "    def __init__(self):\n",
    "        super(SimpleNet, self).__init__()\n",
    "        \n",
    "        self.fc1 = nn.Linear(1024*2, 512)\n",
    "        self.fc2 = nn.Linear(512, 128)\n",
    "        self.fc3 = nn.Linear(128, 32)\n",
    "        self.fc4 = nn.Linear(32, 1)\n",
    "        self.relu = nn.ReLU()\n",
    "        \n",
    "    def forward(self, x):\n",
    "        x = self.relu(self.fc1(x))\n",
    "        x = self.relu(self.fc2(x))\n",
    "        x = self.relu(self.fc3(x))\n",
    "        return self.fc4(x)"
   ]
  },
  {
   "cell_type": "code",
   "execution_count": 396,
   "metadata": {},
   "outputs": [],
   "source": [
    "from torch.utils.data import Dataset, DataLoader\n",
    "\n",
    "# Embeddings to Tensors\n",
    "# Dataloaders\n",
    "embeddings_de = np.load('de_LASER_embeddings_0_to_1000.npy')\n",
    "embeddings_en = np.load('en_LASER_embeddings_0_to_1000.npy')\n",
    "\n",
    "embeddings_de_VAL = np.load('de_LASER_embeddings_VAL_ALL.npy')\n",
    "embeddings_en_VAL = np.load('en_LASER_embeddings_VAL_ALL.npy')\n",
    "\n",
    "embeddings = []\n",
    "embeddings_VAL = []\n",
    "\n",
    "for i in range(len(embeddings_de)):\n",
    "    embeddings.append(np.concatenate((embeddings_de[i], embeddings_en[i])))\n",
    "    \n",
    "for i in range(len(embeddings_de_VAL)):\n",
    "    embeddings_VAL.append(np.concatenate((embeddings_de_VAL[i][0], embeddings_en_VAL[i][0])))\n",
    "\n",
    "class LASER_Dataset(Dataset):\n",
    "    def __init__(self, embeddings, scores):\n",
    "        self.embeddings = torch.tensor(embeddings).float()\n",
    "        self.scores = torch.tensor(scores).float()\n",
    "\n",
    "    def __len__(self):\n",
    "        return len(self.embeddings)\n",
    "\n",
    "    def __getitem__(self, item):\n",
    "        return {'embedding': self.embeddings[item], 'score': self.scores[item]}\n",
    "\n",
    "# Load scores\n",
    "scores = [float(val) for val in de_train_scores]\n",
    "scores_VAL = [float(val) for val in de_train_scores_VAL]\n",
    "\n",
    "batch_size = 20\n",
    "dataset_train = LASER_Dataset(embeddings, scores)\n",
    "dataloader_train = torch.utils.data.DataLoader(dataset_train, batch_size=batch_size, shuffle=True)\n",
    "\n",
    "dataset_VAL = LASER_Dataset(embeddings_VAL, scores_VAL)\n",
    "dataloader_VAL = torch.utils.data.DataLoader(dataset_VAL, batch_size=batch_size, shuffle=False)"
   ]
  },
  {
   "cell_type": "code",
   "execution_count": 416,
   "metadata": {},
   "outputs": [],
   "source": [
    "def check_on_test():\n",
    "    model.eval()\n",
    "    total_loss = 0\n",
    "    \n",
    "    with torch.no_grad():\n",
    "        for i in range(len(embeddings_VAL)):\n",
    "            emb = embeddings_VAL[i]\n",
    "            tens = torch.tensor(emb).float().to(device)\n",
    "            pred_score = model(tens)\n",
    "            \n",
    "            real_score = torch.tensor(scores_VAL[i]).float().view(1).to(device)\n",
    "            \n",
    "            loss = criterion(pred_score, real_score)\n",
    "            total_loss += loss.item()\n",
    "    \n",
    "    return total_loss / len(embeddings_VAL)"
   ]
  },
  {
   "cell_type": "code",
   "execution_count": 451,
   "metadata": {},
   "outputs": [],
   "source": [
    "# Optimizer\n",
    "model = SimpleNet()\n",
    "model = model.to(device=device)  # move the model parameters to CPU/GPU\n",
    "optimizer = optim.Adam(model.parameters(), lr=learning_rate)\n",
    "criterion = nn.MSELoss()"
   ]
  },
  {
   "cell_type": "code",
   "execution_count": 17,
   "metadata": {},
   "outputs": [],
   "source": [
    "epochs = 50\n",
    "\n",
    "training_losses = []\n",
    "test_losses = []\n",
    "\n",
    "for e in range(epochs):\n",
    "    #print(\"Epoch \" + str(e))\n",
    "    total_epoch_loss = 0\n",
    "    total_epoch_loss_test = 0\n",
    "\n",
    "    for batch_idx, batch_samples in enumerate(dataloader_train):\n",
    "        model.train()  # put model to training mode\n",
    "        \n",
    "        emb, score = batch_samples['embedding'].to(device), batch_samples['score'].to(device)\n",
    "\n",
    "        pred_score = model(emb).view(-1)\n",
    "        # print(pred_score)\n",
    "        \n",
    "        loss = criterion(pred_score, score)\n",
    "        \n",
    "        # Zero out all of the gradients for the variables which the optimizer\n",
    "        # will update.\n",
    "        optimizer.zero_grad()\n",
    "        \n",
    "        # This is the backwards pass: compute the gradient of the loss with\n",
    "        # respect to each  parameter of the model.\n",
    "        loss.backward()\n",
    "\n",
    "        # Actually update the parameters of the model using the gradients\n",
    "        # computed by the backwards pass.\n",
    "        optimizer.step()\n",
    "        \n",
    "        total_epoch_loss += loss.item()\n",
    "    \n",
    "    training_losses.append(total_epoch_loss)\n",
    "    test_loss = check_on_test()\n",
    "    test_losses.append(test_loss)\n",
    "    print(str(total_epoch_loss) + \" // \" + str(test_loss))"
   ]
  },
  {
   "cell_type": "code",
   "execution_count": 421,
   "metadata": {},
   "outputs": [
    {
     "name": "stdout",
     "output_type": "stream",
     "text": [
      "-0.0031516516094057256\n"
     ]
    },
    {
     "data": {
      "image/png": "[encoded data removed]",
      "text/plain": [
       "<Figure size 432x288 with 1 Axes>"
      ]
     },
     "metadata": {
      "needs_background": "light"
     },
     "output_type": "display_data"
    },
    {
     "data": {
      "image/png": "[encoded data removed]",
      "text/plain": [
       "<Figure size 432x288 with 1 Axes>"
      ]
     },
     "metadata": {
      "needs_background": "light"
     },
     "output_type": "display_data"
    }
   ],
   "source": [
    "# Evaluate\n",
    "predicted = []\n",
    "\n",
    "model.eval()\n",
    "\n",
    "with torch.no_grad():\n",
    "    for i in range(len(embeddings_VAL)):\n",
    "        emb = embeddings_VAL[i]\n",
    "        tens = torch.tensor(emb).float().to(device)\n",
    "        pred_score = model(tens).item()\n",
    "        predicted.append(pred_score)\n",
    "\n",
    "\n",
    "pearson = pearsonr(predicted, scores_VAL[:len(embeddings_VAL)])[0]\n",
    "print(pearson)\n",
    "\n",
    "plt.figure()\n",
    "plt.hist(predicted, bins=50)\n",
    "plt.xlim([-7, 2])\n",
    "\n",
    "plt.figure()\n",
    "plt.hist(scores_VAL[:len(embeddings_VAL)], bins=100)\n",
    "plt.xlim([-7, 2])\n",
    "plt.show()"
   ]
  },
  {
   "cell_type": "markdown",
   "metadata": {},
   "source": [
    "### sci-kit Linear model"
   ]
  },
  {
   "cell_type": "code",
   "execution_count": null,
   "metadata": {},
   "outputs": [],
   "source": [
    "# Try a simple linear model\n",
    "from sklearn.linear_model import LinearRegression\n",
    "\n",
    "reg = LinearRegression()\n",
    "X = embeddings\n",
    "y = scores[:len(embeddings)]\n",
    "\n",
    "reg.fit(X, y)\n",
    "\n",
    "pred = reg.predict(embeddings_VAL)\n",
    "\n",
    "actual = scores_VAL\n",
    "\n",
    "\n",
    "fig, ax = plt.subplots()\n",
    "ax.scatter(actual, predicted)\n",
    "ax.set_xlim([-7, 3])\n",
    "ax.set_ylim([-7, 3])\n",
    "ax.set_xlabel('Real Age')\n",
    "ax.set_ylabel('Predicted Age')"
   ]
  }
 ],
 "metadata": {
  "accelerator": "GPU",
  "colab": {
   "collapsed_sections": [
    "dvMzrPlB15Q5"
   ],
   "machine_shape": "hm",
   "name": "NLP_CW_v7_GRU.ipynb",
   "provenance": []
  },
  "kernelspec": {
   "display_name": "Python 3",
   "language": "python",
   "name": "python3"
  },
  "language_info": {
   "codemirror_mode": {
    "name": "ipython",
    "version": 3
   },
   "file_extension": ".py",
   "mimetype": "text/x-python",
   "name": "python",
   "nbconvert_exporter": "python",
   "pygments_lexer": "ipython3",
   "version": "3.6.10"
  }
 },
 "nbformat": 4,
 "nbformat_minor": 1
}
